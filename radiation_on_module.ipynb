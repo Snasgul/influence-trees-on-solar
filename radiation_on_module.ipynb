{
 "cells": [
  {
   "cell_type": "code",
   "execution_count": 9,
   "metadata": {},
   "outputs": [],
   "source": [
    "import cv2\n",
    "import numpy as np\n",
    "import math\n",
    "from matplotlib import pyplot as plt"
   ]
  },
  {
   "cell_type": "code",
   "execution_count": 2,
   "metadata": {},
   "outputs": [],
   "source": [
    "def partial_shadow(sun_radius):\n",
    "    arr = np.linspace(0, 2, sun_radius * 2 + 1)\n",
    "    arr = np.delete(arr + (arr[1] - arr[0]) / 2, -1)\n",
    "    shadow_arr = (np.arccos(1 - arr) - (1 - arr) * np.sqrt(2 * arr - arr ** 2)) / np.pi\n",
    "\n",
    "    return shadow_arr"
   ]
  },
  {
   "cell_type": "code",
   "execution_count": 8,
   "metadata": {},
   "outputs": [
    {
     "data": {
      "text/plain": [
       "<matplotlib.image.AxesImage at 0x26e428f1690>"
      ]
     },
     "execution_count": 8,
     "metadata": {},
     "output_type": "execute_result"
    },
    {
     "data": {
      "image/png": "[encoded data removed]",
      "text/plain": [
       "<Figure size 640x480 with 1 Axes>"
      ]
     },
     "metadata": {},
     "output_type": "display_data"
    }
   ],
   "source": [
    "# partial shadow distance is 2r of the sun\n",
    "\n",
    "def solar_cell_mask(cell_size, distance, pix_deg, sun_radius):\n",
    "    cell_x = cell_size[0]\n",
    "    cell_y = cell_size[1]\n",
    "\n",
    "    projection_x = 2 * math.degrees(math.atan(cell_x / distance / 2)) * pix_deg\n",
    "    projection_y = 2 * math.degrees(math.atan(cell_y / distance / 2)) * pix_deg\n",
    "\n",
    "    size_x = int(projection_x + 2 * sun_radius)\n",
    "    size_y = int(projection_y + 2 * sun_radius)\n",
    "\n",
    "    mask = np.ones((size_x, size_y))\n",
    "\n",
    "    shadow_arr = partial_shadow(sun_radius)\n",
    "\n",
    "    mask[0:sun_radius * 2, :] *= shadow_arr[:, None] # top\n",
    "    mask[-sun_radius * 2:,:] *= np.flip(shadow_arr)[:, None] # bottom\n",
    "    mask[:, 0:sun_radius * 2] *= shadow_arr[None, :] # left\n",
    "    mask[:,-sun_radius * 2:] *= np.flip(shadow_arr)[None, :] # right\n",
    "\n",
    "    return (projection_x, projection_y), mask\n",
    "\n",
    "plt.imshow(solar_cell_mask((0.21,0.21), 14, 4048/65, 20)[2])"
   ]
  },
  {
   "cell_type": "code",
   "execution_count": null,
   "metadata": {},
   "outputs": [],
   "source": [
    "def solar_module_mask(cell_size, shape, spacing, pos, distance, pix_deg, sun_radius):\n",
    "\n",
    "    cell_projection, cell_mask = solar_cell_mask(cell_size, distance, pix_deg, sun_radius)\n",
    "\n",
    "    size = shape * (cell_projection + spacing * cell_projection / cell_size)\n",
    "    start_pos = pos - size / 2\n",
    "\n",
    "\n",
    "    cell_row = []"
   ]
  },
  {
   "cell_type": "code",
   "execution_count": null,
   "metadata": {},
   "outputs": [],
   "source": [
    "filename = input(\"Filename: \")\n",
    "tree_img = cv2.imread('measuredTrees/' + filename)\n",
    "plt.imshow(tree_img)"
   ]
  },
  {
   "cell_type": "code",
   "execution_count": null,
   "metadata": {},
   "outputs": [],
   "source": [
    "distance = 5\n",
    "pos_az = 10\n",
    "\n",
    "variation = 200\n",
    "\n",
    "sun_radius_deg = 0.533\n",
    "\n",
    "res_x = tree_img.shape[1]\n",
    "res_y = tree_img.shape[0]\n",
    "pix_deg = res_x / 65"
   ]
  },
  {
   "cell_type": "code",
   "execution_count": null,
   "metadata": {},
   "outputs": [],
   "source": [
    "lower_bound = np.array([205, 0, 0])\n",
    "upper_bound = np.array([360, 255, 255])\n",
    "\n",
    "mask = cv2.inRange(tree_img, lower_bound, upper_bound)\n",
    "\n",
    "#cv2.imshow('treemask', imagemask)\n",
    "plt.imshow(mask, cmap='gray')"
   ]
  },
  {
   "cell_type": "code",
   "execution_count": null,
   "metadata": {},
   "outputs": [],
   "source": [
    "sun_x = int(input(\"Sun position X: \"))#1517\n",
    "sun_y = int(input(\"Sun position Y: \"))#1467\n",
    "\n",
    "sun_radius = int(sun_radius_deg * pix_deg) // 2\n",
    "\n",
    "pos_x = np.arange(sun_x-sun_radius*4, sun_x+sun_radius*4, int(sun_radius/8))\n",
    "pos_y = np.arange(sun_y-sun_radius*4, sun_y+sun_radius*4, int(sun_radius/8))\n",
    "\n",
    "coords = np.array(np.meshgrid(pos_x, pos_y, )).T.reshape(-1, 2)"
   ]
  },
  {
   "cell_type": "code",
   "execution_count": null,
   "metadata": {},
   "outputs": [],
   "source": []
  }
 ],
 "metadata": {
  "kernelspec": {
   "display_name": "Python 3.10.6 ('leaf-density': venv)",
   "language": "python",
   "name": "python3"
  },
  "language_info": {
   "codemirror_mode": {
    "name": "ipython",
    "version": 3
   },
   "file_extension": ".py",
   "mimetype": "text/x-python",
   "name": "python",
   "nbconvert_exporter": "python",
   "pygments_lexer": "ipython3",
   "version": "3.10.6"
  },
  "orig_nbformat": 4,
  "vscode": {
   "interpreter": {
    "hash": "8cc29d0495ed5f669b5aab5a59096b554145ebc82bf88078c47ee5e66ba0f213"
   }
  }
 },
 "nbformat": 4,
 "nbformat_minor": 2
}
