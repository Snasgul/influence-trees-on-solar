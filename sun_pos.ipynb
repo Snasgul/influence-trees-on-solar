{
 "cells": [
  {
   "cell_type": "code",
   "execution_count": 1,
   "metadata": {},
   "outputs": [],
   "source": [
    "import numpy as np"
   ]
  },
  {
   "cell_type": "code",
   "execution_count": 7,
   "metadata": {},
   "outputs": [],
   "source": [
    "distance = 5\n",
    "pos_az = 10\n",
    "\n",
    "img_az = 190\n",
    "img_alt = 35\n",
    "\n",
    "sun_az = 185\n",
    "sun_alt = 30\n",
    "sun_size_deg = 0.533\n",
    "\n",
    "res_x = 3024\n",
    "res_y = 4032\n",
    "pix_deg = res_x / 65\n",
    "\n",
    "sun_size = sun_size_deg * pix_deg"
   ]
  },
  {
   "cell_type": "code",
   "execution_count": 9,
   "metadata": {},
   "outputs": [],
   "source": [
    "sun_az_rel = sun_az - img_az\n",
    "sun_alt_rel = sun_alt - img_alt\n",
    "\n",
    "center_x = sun_az_rel * pix_deg\n",
    "center_y = sun_alt_rel * pix_deg\n",
    "\n",
    "pos_x = res_x / 2 + center_x\n",
    "pos_y = res_y / 2 - center_y\n"
   ]
  }
 ],
 "metadata": {
  "kernelspec": {
   "display_name": "Python 3.10.6 ('leaf-density': venv)",
   "language": "python",
   "name": "python3"
  },
  "language_info": {
   "codemirror_mode": {
    "name": "ipython",
    "version": 3
   },
   "file_extension": ".py",
   "mimetype": "text/x-python",
   "name": "python",
   "nbconvert_exporter": "python",
   "pygments_lexer": "ipython3",
   "version": "3.10.6"
  },
  "orig_nbformat": 4,
  "vscode": {
   "interpreter": {
    "hash": "8cc29d0495ed5f669b5aab5a59096b554145ebc82bf88078c47ee5e66ba0f213"
   }
  }
 },
 "nbformat": 4,
 "nbformat_minor": 2
}
